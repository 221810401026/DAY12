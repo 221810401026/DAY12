{
 "cells": [
  {
   "cell_type": "markdown",
   "metadata": {},
   "source": [
    "## Looping Over a Collection"
   ]
  },
  {
   "cell_type": "code",
   "execution_count": 2,
   "metadata": {},
   "outputs": [
    {
     "name": "stdout",
     "output_type": "stream",
     "text": [
      "red green yellow pink "
     ]
    }
   ],
   "source": [
    "colors = ['red','green','yellow','pink']\n",
    "for i in range(len(colors)):\n",
    "    print(colors[i],end=\" \")"
   ]
  },
  {
   "cell_type": "code",
   "execution_count": 4,
   "metadata": {},
   "outputs": [
    {
     "name": "stdout",
     "output_type": "stream",
     "text": [
      "red green yellow pink "
     ]
    }
   ],
   "source": [
    "for color in colors:\n",
    "    print(color,end=\" \")"
   ]
  },
  {
   "cell_type": "markdown",
   "metadata": {},
   "source": [
    "# Looping Backwards"
   ]
  },
  {
   "cell_type": "code",
   "execution_count": 7,
   "metadata": {},
   "outputs": [
    {
     "name": "stdout",
     "output_type": "stream",
     "text": [
      "purple yellow green red "
     ]
    }
   ],
   "source": [
    "colors = ['red','green','yellow','purple']\n",
    "for i in range(len(colors)-1,-1,-1):\n",
    "    print(colors[i],end=\" \")"
   ]
  },
  {
   "cell_type": "code",
   "execution_count": 9,
   "metadata": {},
   "outputs": [
    {
     "name": "stdout",
     "output_type": "stream",
     "text": [
      "purple yellow green red "
     ]
    }
   ],
   "source": [
    "for color in reversed(colors):\n",
    "    print(color,end=\" \")"
   ]
  },
  {
   "cell_type": "code",
   "execution_count": 12,
   "metadata": {},
   "outputs": [
    {
     "name": "stdout",
     "output_type": "stream",
     "text": [
      "yellow red purple green "
     ]
    }
   ],
   "source": [
    "colors = ['red','green','yellow','purple']\n",
    "for color in sorted(colors,reverse=True):\n",
    "    print(color,end=\" \")"
   ]
  },
  {
   "cell_type": "markdown",
   "metadata": {},
   "source": [
    "### \n",
    "- if x <=y and y <=z\n",
    "- if x<=y<=z\n",
    "- if x == True\n",
    "- if x:"
   ]
  },
  {
   "cell_type": "markdown",
   "metadata": {},
   "source": [
    "# Pandas"
   ]
  },
  {
   "cell_type": "code",
   "execution_count": 25,
   "metadata": {},
   "outputs": [],
   "source": [
    "import pandas as pd"
   ]
  },
  {
   "cell_type": "code",
   "execution_count": 38,
   "metadata": {},
   "outputs": [],
   "source": [
    "dt = {'Id':[11,12,13,14,15],\n",
    "     'first_name':['A','B','C','D','E'],\n",
    "     'company':['aa','bb','cc','dd','ee'],\n",
    "     'address':['Hyd','Hyd','Hyd','Hyd','Hyd']}\n",
    "mydt = pd.DataFrame(dt)    "
   ]
  },
  {
   "cell_type": "code",
   "execution_count": 40,
   "metadata": {},
   "outputs": [
    {
     "name": "stdout",
     "output_type": "stream",
     "text": [
      "   Id first_name company address\n",
      "0  11          A      aa     Hyd\n",
      "1  12          B      bb     Hyd\n",
      "2  13          C      cc     Hyd\n",
      "3  14          D      dd     Hyd\n",
      "4  15          E      ee     Hyd\n"
     ]
    }
   ],
   "source": [
    "print(mydt)"
   ]
  },
  {
   "cell_type": "code",
   "execution_count": null,
   "metadata": {},
   "outputs": [],
   "source": []
  }
 ],
 "metadata": {
  "kernelspec": {
   "display_name": "Python 3",
   "language": "python",
   "name": "python3"
  },
  "language_info": {
   "codemirror_mode": {
    "name": "ipython",
    "version": 3
   },
   "file_extension": ".py",
   "mimetype": "text/x-python",
   "name": "python",
   "nbconvert_exporter": "python",
   "pygments_lexer": "ipython3",
   "version": "3.7.3"
  }
 },
 "nbformat": 4,
 "nbformat_minor": 2
}
